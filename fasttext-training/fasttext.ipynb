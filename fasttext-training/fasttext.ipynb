{
 "cells": [
  {
   "cell_type": "code",
   "execution_count": 5,
   "metadata": {},
   "outputs": [],
   "source": [
    "import fasttext\n",
    "import pandas as pd\n",
    "import re\n",
    "from nltk.corpus import stopwords"
   ]
  },
  {
   "cell_type": "markdown",
   "metadata": {},
   "source": [
    "#### <b>1. Prepare Data For Training Word Vectors</b>"
   ]
  },
  {
   "cell_type": "code",
   "execution_count": null,
   "metadata": {},
   "outputs": [],
   "source": [
    "# Read data from files \n",
    "train = pd.read_csv(\"../data/train.csv\", header=0)\n",
    "test = pd.read_csv( \"../data/test.csv\", header=0)\n",
    "\n",
    "# Verify the number of comments that were read\n",
    "print(\"Read %d labeled train reviews and  %d unlabelled test reviews\" % (len(train),len(test)))\n",
    "all_comments = train['comment_text'].fillna(\"_na_\").tolist() + test['comment_text'].fillna(\"_na_\").tolist() \n",
    "\n",
    "with open(\"data/all_comments.csv\", \"w+\") as comments_file:\n",
    "    for comment in all_comments:\n",
    "        comment = re.sub(\"[^a-zA-Z]\",\" \",str(comment).lower())\n",
    "        comment= ' '.join(comment.split()).lstrip()\n",
    "        comments_file.write(\"%s\\n\" % comment)"
   ]
  },
  {
   "cell_type": "markdown",
   "metadata": {},
   "source": [
    "#### <b> 2. Prepare Data For Training Classifier </b>"
   ]
  },
  {
   "cell_type": "code",
   "execution_count": null,
   "metadata": {},
   "outputs": [],
   "source": [
    "# Read data from files \n",
    "train = pd.read_csv(\"../data/train.csv\", header=0)\n",
    "train = pd.read_csv(\"../data/train.csv\", header=0)[20000:len(train)]\n",
    "validation = pd.read_csv(\"../data/train.csv\", header=0)[0:20000]\n",
    "test = pd.read_csv( \"../data/test.csv\", header=0)\n",
    "# Verify the number of comments that were read\n",
    "print(\"Read %d labeled train reviews and  %d unlabelled test reviews\" % (len(train),len(test)))\n",
    "train['comment_text'] = train['comment_text'].fillna(\"_na_\")\n",
    "validation['comment_text'] = validation['comment_text'].fillna(\"_na_\")\n",
    "test['comment_text'] = test['comment_text'].fillna(\"_na_\")\n",
    "\n",
    "with open(\"data/test_comments.txt\", \"w+\") as comments_file:\n",
    "    for index,row in test.iterrows():\n",
    "        comments_file.write(\" \")\n",
    "        comment = re.sub(\"[^a-zA-Z]\",\" \",str(row['comment_text'])).lower()\n",
    "        comment= ' '.join(comment.split()).lstrip()\n",
    "        comments_file.write(\"%s\\n\" % comment)\n",
    "  \n",
    "with open(\"data/train_comments.csv\", \"w+\") as comments_file:\n",
    "    for index,row in train.iterrows():\n",
    "        if row['toxic'] == 1:\n",
    "            comments_file.write(\"__label__%s \" % 'toxic')\n",
    "        if row['severe_toxic'] == 1:\n",
    "            comments_file.write(\"__label__%s \" % 'severe_toxic')\n",
    "        if row['obscene'] == 1:\n",
    "            comments_file.write(\"__label__%s \" % 'obscene')\n",
    "        if row['threat'] == 1:\n",
    "            comments_file.write(\"__label__%s \" % 'threat')\n",
    "        if row['insult'] == 1:\n",
    "            comments_file.write(\"__label__%s \" % 'insult')\n",
    "        if row['identity_hate'] == 1:\n",
    "            comments_file.write(\"__label__%s \" % 'identity_hate')\n",
    "        if row['toxic'] + row['severe_toxic'] + row['obscene'] + row['threat'] + row['insult'] + row['identity_hate'] == 0:\n",
    "            comments_file.write(\"__label__%s\" % 'clean')\n",
    "        comments_file.write(\" \")\n",
    "        comment = re.sub(\"[^a-zA-Z]\",\" \",str(row['comment_text'])).lower()\n",
    "        comment= ' '.join(comment.split()).lstrip()\n",
    "        comments_file.write(\"%s\\n\" % comment)\n",
    "        \n",
    "with open(\"data/validate_comments.csv\", \"w+\") as comments_file:\n",
    "    for index,row in validation.iterrows():\n",
    "        if row['toxic'] == 1:\n",
    "            comments_file.write(\"__label__%s \" % 'toxic')\n",
    "        if row['severe_toxic'] == 1:\n",
    "            comments_file.write(\"__label__%s \" % 'severe_toxic')\n",
    "        if row['obscene'] == 1:\n",
    "            comments_file.write(\"__label__%s \" % 'obscene')\n",
    "        if row['threat'] == 1:\n",
    "            comments_file.write(\"__label__%s \" % 'threat')\n",
    "        if row['insult'] == 1:\n",
    "            comments_file.write(\"__label__%s \" % 'insult')\n",
    "        if row['identity_hate'] == 1:\n",
    "            comments_file.write(\"__label__%s \" % 'identity_hate')\n",
    "        if row['toxic'] + row['severe_toxic'] + row['obscene'] + row['threat'] + row['insult'] + row['identity_hate'] == 0:\n",
    "            comments_file.write(\"__label__%s\" % 'clean')\n",
    "        comments_file.write(\" \")\n",
    "        comment = re.sub(\"[^a-zA-Z]\",\" \",str(row['comment_text'])).lower()\n",
    "        comment= ' '.join(comment.split()).lstrip()\n",
    "        comments_file.write(\"%s\\n\" % comment)\n"
   ]
  },
  {
   "cell_type": "markdown",
   "metadata": {},
   "source": [
    "#### <b> 3. Prepare Word Vecs, Train Model, Test Predictions </b>"
   ]
  },
  {
   "cell_type": "code",
   "execution_count": null,
   "metadata": {},
   "outputs": [],
   "source": [
    "# input_file     training file path (required)\n",
    "# output         output file path (required)\n",
    "# lr             learning rate [0.05]\n",
    "# lr_update_rate change the rate of updates for the learning rate [100]\n",
    "# dim            size of word vectors [100]\n",
    "# ws             size of the context window [5]\n",
    "# epoch          number of epochs [5]\n",
    "# min_count      minimal number of word occurences [5]\n",
    "# neg            number of negatives sampled [5]\n",
    "# word_ngrams    max length of word ngram [1]\n",
    "# loss           loss function {ns, hs, softmax} [ns]\n",
    "# bucket         number of buckets [2000000]\n",
    "# minn           min length of char ngram [3]\n",
    "# maxn           max length of char ngram [6]\n",
    "# thread         number of threads [12]\n",
    "# t              sampling threshold [0.0001]\n",
    "# silent         disable the log output from the C++ extension [1]\n",
    "# encoding       specify input_file encoding [utf-8]"
   ]
  },
  {
   "cell_type": "code",
   "execution_count": null,
   "metadata": {},
   "outputs": [],
   "source": [
    "import fasttext\n",
    "# CBOW model\n",
    "model = fasttext.skipgram(\n",
    "    input_file = 'data/all_comments.csv', \n",
    "    output = 'skipgram_250_3ngram_fasttext_model',\n",
    "    lr = 0.015,             #learning rate [0.05]\n",
    "    lr_update_rate = 1, #change the rate of updates for the learning rate [100]\n",
    "    dim = 150,            #size of word vectors [100]\n",
    "    ws = 6,             #size of the context window [5]\n",
    "    epoch = 5,          #number of epochs [5]\n",
    "    min_count = 5,      #minimal number of word occurences [5]\n",
    "    neg = 10,            #number of negatives sampled [5]\n",
    "    word_ngrams = 2,    #max length of word ngram [1]\n",
    "    loss = 'ns',           #loss function {ns, hs, softmax} [ns]\n",
    "    bucket = 2000000,         #number of buckets [2000000]\n",
    "    minn = 3,           #min length of char ngram [3]\n",
    "    maxn = 7,           #max length of char ngram [6]\n",
    "    thread = 12,         #number of threads [12]\n",
    "    t = 0.0001,              #sampling threshold [0.0001]\n",
    "    silent = 0,         #disable the log output from the C++ extension [1]\n",
    "    encoding = 'utf-8'       #specify input_file encoding [utf-8]\n",
    ")"
   ]
  },
  {
   "cell_type": "code",
   "execution_count": null,
   "metadata": {},
   "outputs": [],
   "source": [
    "model = fasttext.load_model('cbow_fasttext_model.bin')"
   ]
  },
  {
   "cell_type": "markdown",
   "metadata": {},
   "source": [
    "#### <b> Training A Classifier </b>"
   ]
  },
  {
   "cell_type": "markdown",
   "metadata": {},
   "source": [
    "- <b>input_file</b>---------------training file path (required)<br>\n",
    "- <b>output</b>--------------------output file path (required)<br>\n",
    "- <b>label_prefix</b>--------------label prefix ['__label__']<br>\n",
    "- <b>lr</b>------------------------learning rate [0.1] <br>\n",
    "- <b>lr_update_rate</b>------------change the rate of updates for the learning rate [100]<br>\n",
    "- <b>dim</b>-----------------------size of word vectors [100]<br>\n",
    "- <b>ws</b>------------------------size of the context window [5]<br>\n",
    "- <b>epoch</b>---------------------number of epochs [5]<br>\n",
    "- <b>min_count</b>-----------------minimal number of word occurences [1]<br>\n",
    "- <b>neg</b>-----------------------number of negatives sampled [5]<br>\n",
    "- <b>word_ngrams</b>---------------max length of word ngram [1]<br>\n",
    "- <b>loss</b>----------------------loss function {ns, hs, softmax} [softmax]<br>\n",
    "- <b>bucket</b>--------------------number of buckets [0]<br>\n",
    "- <b>minn</b>----------------------min length of char ngram [0]<br>\n",
    "- <b>maxn</b>----------------------max length of char ngram [0]<br>\n",
    "- <b>thread</b>--------------------number of threads [12]<br>\n",
    "- <b>t</b>-------------------------sampling threshold [0.0001]<br>\n",
    "- <b>silent</b>--------------------disable the log output from the C++ extension [1]<br>\n",
    "- <b>encoding</b>------------------specify input_file encoding [utf-8]<br>\n",
    "- <b>pretrained_vectors</b>--------pretrained word vectors (.vec file) for supervised learning []<br>"
   ]
  },
  {
   "cell_type": "code",
   "execution_count": null,
   "metadata": {},
   "outputs": [],
   "source": [
    "import fasttext\n",
    "classifier = fasttext.supervised(input_file = 'data/train_comments.csv',\n",
    "                                 output = 'initial_classifier_commas',\n",
    "                                 label_prefix ='__label__',\n",
    "                                 lr = 0.1,\n",
    "                                 lr_update_rate = 100,\n",
    "                                 word_ngrams = 3,\n",
    "                                 bucket = 2000000,\n",
    "                                 dim = 100,\n",
    "                                 ws = 10,\n",
    "                                 epoch = 10,\n",
    "                                 min_count = 10,\n",
    "                                 neg = 5,\n",
    "                                 pretrained_vectors = 'word_vector_models/crawl-300d-2M.vec',\n",
    "                                 silent = 0\n",
    "                                )"
   ]
  },
  {
   "cell_type": "code",
   "execution_count": 19,
   "metadata": {},
   "outputs": [
    {
     "name": "stdout",
     "output_type": "stream",
     "text": [
      "Completed Iteration: Parameter = 1: Training Precision = 0.9870140143175437 - Validation Precision = 0.9564\n",
      "Completed Iteration: Parameter = 3: Training Precision = 0.98713266799383 - Validation Precision = 0.95675\n",
      "Completed Iteration: Parameter = 5: Training Precision = 0.98713266799383 - Validation Precision = 0.9564\n",
      "Completed Iteration: Parameter = 10: Training Precision = 0.9875413639899276 - Validation Precision = 0.95645\n",
      "Completed Iteration: Parameter = 15: Training Precision = 0.9873831590882124 - Validation Precision = 0.9569\n",
      "Completed Iteration: Parameter = 50: Training Precision = 0.987396342830022 - Validation Precision = 0.9565\n"
     ]
    }
   ],
   "source": [
    "import fasttext\n",
    "parameters = [1,3,5,10,15,50]\n",
    "training_score = []\n",
    "for test_param in parameters:\n",
    "    classifier = fasttext.supervised(input_file = 'data/train_comments.csv',\n",
    "                                 output = 'pre-trained-vectors',\n",
    "                                 label_prefix ='__label__',\n",
    "                                  lr = 0.1,\n",
    "                                  lr_update_rate = 100,\n",
    "                                  word_ngrams = 2,\n",
    "                                  bucket = 2000000,\n",
    "                                  dim = 300,\n",
    "                                  ws = 6,\n",
    "                                 epoch = 7,\n",
    "                                 min_count = 5,\n",
    "                                 neg = test_param,\n",
    "                                 pretrained_vectors = 'word_vector_models/crawl-300d-2M.vec',\n",
    "                                 silent = 0\n",
    "                                )\n",
    "    training = classifier.test('data/train_comments.csv')\n",
    "    validation = classifier.test('data/validate_comments.csv')\n",
    "    training_score += [{\"num_epochs\":num_epochs,\n",
    "                       \"training_precision\":training.precision,\n",
    "                       \"training_recall\":training.recall,\n",
    "                       \"validation_precision\":validation.precision,\n",
    "                       \"validation_recall\":validation.recall}]\n",
    "    print(\"Completed Iteration: Parameter = %s: Training Precision = %s - Validation Precision = %s\" % (test_param,training.precision,validation.precision))"
   ]
  },
  {
   "cell_type": "code",
   "execution_count": null,
   "metadata": {},
   "outputs": [],
   "source": [
    "validation_scores = pd.DataFrame.from_dict(training_score)"
   ]
  },
  {
   "cell_type": "code",
   "execution_count": null,
   "metadata": {},
   "outputs": [],
   "source": [
    "validation_scores"
   ]
  },
  {
   "cell_type": "code",
   "execution_count": null,
   "metadata": {},
   "outputs": [],
   "source": [
    "print('P@1:', validation.precision)\n",
    "print('R@1:', validation.recall)\n",
    "print('Number of examples:', validation.nexamples)"
   ]
  },
  {
   "cell_type": "markdown",
   "metadata": {},
   "source": [
    "#### <b> Getting Predictions </b>"
   ]
  },
  {
   "cell_type": "code",
   "execution_count": null,
   "metadata": {},
   "outputs": [],
   "source": [
    "# classifier.labels                  # List of labels\n",
    "# classifier.label_prefix            # Prefix of the label\n",
    "# classifier.dim                     # Size of word vector\n",
    "# classifier.ws                      # Size of context window\n",
    "# classifier.epoch                   # Number of epochs\n",
    "# classifier.min_count               # Minimal number of word occurences\n",
    "# classifier.neg                     # Number of negative sampled\n",
    "# classifier.word_ngrams             # Max length of word ngram\n",
    "# classifier.loss_name               # Loss function name\n",
    "# classifier.bucket                  # Number of buckets\n",
    "# classifier.minn                    # Min length of char ngram\n",
    "# classifier.maxn                    # Max length of char ngram\n",
    "# classifier.lr_update_rate          # Rate of updates for the learning rate\n",
    "# classifier.t                       # Value of sampling threshold\n",
    "# classifier.encoding                # Encoding that used by classifier\n",
    "# classifier.test(filename, k)       # Test the classifier\n",
    "# classifier.predict(texts, k)       # Predict the most likely label\n",
    "# classifier.predict_proba(texts, k) # Predict the most likely label include their probability"
   ]
  },
  {
   "cell_type": "code",
   "execution_count": 9,
   "metadata": {},
   "outputs": [],
   "source": [
    "filename = 'data/test_comments.txt' #Read In Comments for predictions\n",
    "with open(filename) as f:\n",
    "    content = f.readlines()"
   ]
  },
  {
   "cell_type": "code",
   "execution_count": 10,
   "metadata": {},
   "outputs": [],
   "source": [
    "labels = classifier.predict_proba(content, 7)\n",
    "sample_submission = pd.read_csv('../submissions/sample_submission.csv') #Read in sample output file\n",
    "labelsdict = [dict(row) for row in labels] # Convert list output to dicts\n",
    "output = pd.DataFrame.from_dict(labelsdict) # Create PD Dataframe from labels\n",
    "output['id'] = sample_submission['id'] #Ad ID Column\n",
    "output = output.drop('clean',axis =1) #Drop unused clean column\n",
    "output = output[sample_submission.columns]"
   ]
  },
  {
   "cell_type": "code",
   "execution_count": 11,
   "metadata": {},
   "outputs": [],
   "source": [
    "output.to_csv('submissions/using_pretrained_vecs_300ep.csv', index=False)"
   ]
  },
  {
   "cell_type": "code",
   "execution_count": 12,
   "metadata": {},
   "outputs": [
    {
     "ename": "NameError",
     "evalue": "name 'hello' is not defined",
     "output_type": "error",
     "traceback": [
      "\u001b[0;31m---------------------------------------------------------------------------\u001b[0m",
      "\u001b[0;31mNameError\u001b[0m                                 Traceback (most recent call last)",
      "\u001b[0;32m<ipython-input-12-f572d396fae9>\u001b[0m in \u001b[0;36m<module>\u001b[0;34m()\u001b[0m\n\u001b[0;32m----> 1\u001b[0;31m \u001b[0mhello\u001b[0m\u001b[0;34m\u001b[0m\u001b[0m\n\u001b[0m",
      "\u001b[0;31mNameError\u001b[0m: name 'hello' is not defined"
     ]
    }
   ],
   "source": [
    "hello"
   ]
  },
  {
   "cell_type": "code",
   "execution_count": null,
   "metadata": {},
   "outputs": [],
   "source": []
  }
 ],
 "metadata": {
  "kernelspec": {
   "display_name": "Python 3",
   "language": "python",
   "name": "python3"
  },
  "language_info": {
   "codemirror_mode": {
    "name": "ipython",
    "version": 3
   },
   "file_extension": ".py",
   "mimetype": "text/x-python",
   "name": "python",
   "nbconvert_exporter": "python",
   "pygments_lexer": "ipython3",
   "version": "3.5.2"
  }
 },
 "nbformat": 4,
 "nbformat_minor": 2
}
